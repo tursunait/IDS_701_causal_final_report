{
  "cells": [
    {
      "cell_type": "markdown",
      "metadata": {
        "id": "view-in-github",
        "colab_type": "text"
      },
      "source": [
        "<a href=\"https://colab.research.google.com/github/tursunait/IDS_701_causal_final_report/blob/main/Untitled_1.ipynb\" target=\"_parent\"><img src=\"https://colab.research.google.com/assets/colab-badge.svg\" alt=\"Open In Colab\"/></a>"
      ]
    },
    {
      "cell_type": "code",
      "source": [
        "# 🔧 Step 1: Install linearmodels (only needed once per Colab session)\n",
        "!pip install linearmodels\n"
      ],
      "metadata": {
        "colab": {
          "base_uri": "https://localhost:8080/"
        },
        "id": "N4eg0voOuMdf",
        "outputId": "51feac62-61c8-4cac-8b33-110995d1bc81"
      },
      "execution_count": 1,
      "outputs": [
        {
          "output_type": "stream",
          "name": "stdout",
          "text": [
            "Collecting linearmodels\n",
            "  Downloading linearmodels-6.1-cp311-cp311-manylinux_2_17_x86_64.manylinux2014_x86_64.whl.metadata (7.9 kB)\n",
            "Requirement already satisfied: numpy<3,>=1.22.3 in /usr/local/lib/python3.11/dist-packages (from linearmodels) (2.0.2)\n",
            "Requirement already satisfied: pandas>=1.4.0 in /usr/local/lib/python3.11/dist-packages (from linearmodels) (2.2.2)\n",
            "Requirement already satisfied: scipy>=1.8.0 in /usr/local/lib/python3.11/dist-packages (from linearmodels) (1.14.1)\n",
            "Requirement already satisfied: statsmodels>=0.13.0 in /usr/local/lib/python3.11/dist-packages (from linearmodels) (0.14.4)\n",
            "Collecting mypy-extensions>=0.4 (from linearmodels)\n",
            "  Downloading mypy_extensions-1.0.0-py3-none-any.whl.metadata (1.1 kB)\n",
            "Requirement already satisfied: Cython>=3.0.10 in /usr/local/lib/python3.11/dist-packages (from linearmodels) (3.0.12)\n",
            "Collecting pyhdfe>=0.1 (from linearmodels)\n",
            "  Downloading pyhdfe-0.2.0-py3-none-any.whl.metadata (4.0 kB)\n",
            "Collecting formulaic>=1.0.0 (from linearmodels)\n",
            "  Downloading formulaic-1.1.1-py3-none-any.whl.metadata (6.9 kB)\n",
            "Collecting setuptools-scm<9.0.0,>=8.0.0 (from setuptools-scm[toml]<9.0.0,>=8.0.0->linearmodels)\n",
            "  Downloading setuptools_scm-8.2.0-py3-none-any.whl.metadata (6.8 kB)\n",
            "Collecting interface-meta>=1.2.0 (from formulaic>=1.0.0->linearmodels)\n",
            "  Downloading interface_meta-1.3.0-py3-none-any.whl.metadata (6.7 kB)\n",
            "Requirement already satisfied: typing-extensions>=4.2.0 in /usr/local/lib/python3.11/dist-packages (from formulaic>=1.0.0->linearmodels) (4.13.2)\n",
            "Requirement already satisfied: wrapt>=1.0 in /usr/local/lib/python3.11/dist-packages (from formulaic>=1.0.0->linearmodels) (1.17.2)\n",
            "Requirement already satisfied: python-dateutil>=2.8.2 in /usr/local/lib/python3.11/dist-packages (from pandas>=1.4.0->linearmodels) (2.8.2)\n",
            "Requirement already satisfied: pytz>=2020.1 in /usr/local/lib/python3.11/dist-packages (from pandas>=1.4.0->linearmodels) (2025.2)\n",
            "Requirement already satisfied: tzdata>=2022.7 in /usr/local/lib/python3.11/dist-packages (from pandas>=1.4.0->linearmodels) (2025.2)\n",
            "Requirement already satisfied: packaging>=20 in /usr/local/lib/python3.11/dist-packages (from setuptools-scm<9.0.0,>=8.0.0->setuptools-scm[toml]<9.0.0,>=8.0.0->linearmodels) (24.2)\n",
            "Requirement already satisfied: setuptools>=61 in /usr/local/lib/python3.11/dist-packages (from setuptools-scm<9.0.0,>=8.0.0->setuptools-scm[toml]<9.0.0,>=8.0.0->linearmodels) (75.2.0)\n",
            "Requirement already satisfied: patsy>=0.5.6 in /usr/local/lib/python3.11/dist-packages (from statsmodels>=0.13.0->linearmodels) (1.0.1)\n",
            "Requirement already satisfied: six>=1.5 in /usr/local/lib/python3.11/dist-packages (from python-dateutil>=2.8.2->pandas>=1.4.0->linearmodels) (1.17.0)\n",
            "Downloading linearmodels-6.1-cp311-cp311-manylinux_2_17_x86_64.manylinux2014_x86_64.whl (1.7 MB)\n",
            "\u001b[2K   \u001b[90m━━━━━━━━━━━━━━━━━━━━━━━━━━━━━━━━━━━━━━━━\u001b[0m \u001b[32m1.7/1.7 MB\u001b[0m \u001b[31m23.2 MB/s\u001b[0m eta \u001b[36m0:00:00\u001b[0m\n",
            "\u001b[?25hDownloading formulaic-1.1.1-py3-none-any.whl (115 kB)\n",
            "\u001b[2K   \u001b[90m━━━━━━━━━━━━━━━━━━━━━━━━━━━━━━━━━━━━━━━━\u001b[0m \u001b[32m115.7/115.7 kB\u001b[0m \u001b[31m7.9 MB/s\u001b[0m eta \u001b[36m0:00:00\u001b[0m\n",
            "\u001b[?25hDownloading mypy_extensions-1.0.0-py3-none-any.whl (4.7 kB)\n",
            "Downloading pyhdfe-0.2.0-py3-none-any.whl (19 kB)\n",
            "Downloading setuptools_scm-8.2.0-py3-none-any.whl (43 kB)\n",
            "\u001b[2K   \u001b[90m━━━━━━━━━━━━━━━━━━━━━━━━━━━━━━━━━━━━━━━━\u001b[0m \u001b[32m43.9/43.9 kB\u001b[0m \u001b[31m2.9 MB/s\u001b[0m eta \u001b[36m0:00:00\u001b[0m\n",
            "\u001b[?25hDownloading interface_meta-1.3.0-py3-none-any.whl (14 kB)\n",
            "Installing collected packages: setuptools-scm, mypy-extensions, interface-meta, pyhdfe, formulaic, linearmodels\n",
            "Successfully installed formulaic-1.1.1 interface-meta-1.3.0 linearmodels-6.1 mypy-extensions-1.0.0 pyhdfe-0.2.0 setuptools-scm-8.2.0\n"
          ]
        }
      ]
    },
    {
      "cell_type": "code",
      "source": [
        "import pandas as pd\n",
        "from linearmodels.panel import PanelOLS\n",
        "\n",
        "# Step 2: Load JD order data from GitHub\n",
        "url = \"https://raw.githubusercontent.com/tursunait/IDS_701_causal_final_report/main/JD_order_data.csv\"\n",
        "orders = pd.read_csv(url)\n",
        "\n",
        "# Step 3: Filter purchases only\n",
        "orders = orders[orders[\"quantity\"] > 0]\n",
        "\n",
        "# Step 4: Optimize memory\n",
        "orders[\"user_ID\"] = orders[\"user_ID\"].astype(\"category\")\n",
        "orders[\"sku_ID\"] = orders[\"sku_ID\"].astype(\"category\")\n",
        "\n",
        "# Step 5: Set panel index — fixed effects by user\n",
        "orders = orders.set_index([\"user_ID\", orders.index])  # MultiIndex: user + row index\n",
        "\n",
        "# Step 6: Run PanelOLS with absorbed fixed effects (EntityEffects = user_ID)\n",
        "model = PanelOLS.from_formula(\n",
        "    \"quantity ~ direct_discount_per_unit + coupon_discount_per_unit + \"\n",
        "    \"quantity_discount_per_unit + bundle_discount_per_unit + EntityEffects\",\n",
        "    data=orders\n",
        ")\n",
        "\n",
        "result = model.fit()\n",
        "print(result.summary)\n"
      ],
      "metadata": {
        "colab": {
          "base_uri": "https://localhost:8080/"
        },
        "id": "tgZXgZFquLnv",
        "outputId": "36f9dc2e-8cfd-46f4-91aa-88958877ace3"
      },
      "execution_count": 2,
      "outputs": [
        {
          "output_type": "stream",
          "name": "stderr",
          "text": [
            "/usr/local/lib/python3.11/dist-packages/linearmodels/panel/data.py:590: FutureWarning: The default of observed=False is deprecated and will be changed to True in a future version of pandas. Pass observed=False to retain current behavior or observed=True to adopt the future default and silence this warning.\n",
            "  group_mu = self._frame.groupby(level=level).transform(\"mean\")\n",
            "/usr/local/lib/python3.11/dist-packages/linearmodels/panel/data.py:590: FutureWarning: The default of observed=False is deprecated and will be changed to True in a future version of pandas. Pass observed=False to retain current behavior or observed=True to adopt the future default and silence this warning.\n",
            "  group_mu = self._frame.groupby(level=level).transform(\"mean\")\n",
            "/usr/local/lib/python3.11/dist-packages/linearmodels/panel/data.py:680: FutureWarning: The default of observed=False is deprecated and will be changed to True in a future version of pandas. Pass observed=False to retain current behavior or observed=True to adopt the future default and silence this warning.\n",
            "  mu = self._frame.groupby(level=level).mean()\n",
            "/usr/local/lib/python3.11/dist-packages/linearmodels/panel/data.py:680: FutureWarning: The default of observed=False is deprecated and will be changed to True in a future version of pandas. Pass observed=False to retain current behavior or observed=True to adopt the future default and silence this warning.\n",
            "  mu = self._frame.groupby(level=level).mean()\n",
            "/usr/local/lib/python3.11/dist-packages/linearmodels/panel/data.py:640: FutureWarning: The default of observed=False is deprecated and will be changed to True in a future version of pandas. Pass observed=False to retain current behavior or observed=True to adopt the future default and silence this warning.\n",
            "  out = self._frame.groupby(level=level).count()\n",
            "/usr/local/lib/python3.11/dist-packages/linearmodels/panel/data.py:680: FutureWarning: The default of observed=False is deprecated and will be changed to True in a future version of pandas. Pass observed=False to retain current behavior or observed=True to adopt the future default and silence this warning.\n",
            "  mu = self._frame.groupby(level=level).mean()\n",
            "/usr/local/lib/python3.11/dist-packages/linearmodels/panel/data.py:590: FutureWarning: The default of observed=False is deprecated and will be changed to True in a future version of pandas. Pass observed=False to retain current behavior or observed=True to adopt the future default and silence this warning.\n",
            "  group_mu = self._frame.groupby(level=level).transform(\"mean\")\n",
            "/usr/local/lib/python3.11/dist-packages/linearmodels/panel/data.py:680: FutureWarning: The default of observed=False is deprecated and will be changed to True in a future version of pandas. Pass observed=False to retain current behavior or observed=True to adopt the future default and silence this warning.\n",
            "  mu = self._frame.groupby(level=level).mean()\n",
            "/usr/local/lib/python3.11/dist-packages/linearmodels/panel/data.py:680: FutureWarning: The default of observed=False is deprecated and will be changed to True in a future version of pandas. Pass observed=False to retain current behavior or observed=True to adopt the future default and silence this warning.\n",
            "  mu = self._frame.groupby(level=level).mean()\n",
            "/usr/local/lib/python3.11/dist-packages/linearmodels/panel/data.py:590: FutureWarning: The default of observed=False is deprecated and will be changed to True in a future version of pandas. Pass observed=False to retain current behavior or observed=True to adopt the future default and silence this warning.\n",
            "  group_mu = self._frame.groupby(level=level).transform(\"mean\")\n"
          ]
        },
        {
          "output_type": "stream",
          "name": "stdout",
          "text": [
            "                          PanelOLS Estimation Summary                           \n",
            "================================================================================\n",
            "Dep. Variable:               quantity   R-squared:                        0.0008\n",
            "Estimator:                   PanelOLS   R-squared (Between):             -0.0095\n",
            "No. Observations:              549989   R-squared (Within):               0.0008\n",
            "Date:                Tue, Apr 22 2025   R-squared (Overall):             -0.0057\n",
            "Time:                        04:19:56   Log-likelihood                -6.359e+05\n",
            "Cov. Estimator:            Unadjusted                                           \n",
            "                                        F-statistic:                      18.028\n",
            "Entities:                      454897   P-value                           0.0000\n",
            "Avg Obs:                       1.2090   Distribution:                 F(4,95088)\n",
            "Min Obs:                       1.0000                                           \n",
            "Max Obs:                       605.00   F-statistic (robust):             18.028\n",
            "                                        P-value                           0.0000\n",
            "Time periods:                  549989   Distribution:                 F(4,95088)\n",
            "Avg Obs:                       1.0000                                           \n",
            "Min Obs:                       1.0000                                           \n",
            "Max Obs:                       1.0000                                           \n",
            "                                                                                \n",
            "                                     Parameter Estimates                                      \n",
            "==============================================================================================\n",
            "                            Parameter  Std. Err.     T-stat    P-value    Lower CI    Upper CI\n",
            "----------------------------------------------------------------------------------------------\n",
            "direct_discount_per_unit      -0.0010     0.0002    -4.6849     0.0000     -0.0014     -0.0006\n",
            "coupon_discount_per_unit      -0.0026     0.0006    -4.5304     0.0000     -0.0037     -0.0015\n",
            "quantity_discount_per_unit     0.0019     0.0005     3.4965     0.0005      0.0008      0.0030\n",
            "bundle_discount_per_unit      -0.0009     0.0007    -1.3596     0.1740     -0.0022      0.0004\n",
            "==============================================================================================\n",
            "\n",
            "F-test for Poolability: 0.9914\n",
            "P-value: 0.9575\n",
            "Distribution: F(454896,95088)\n",
            "\n",
            "Included effects: Entity\n"
          ]
        }
      ]
    },
    {
      "cell_type": "markdown",
      "source": [
        "#  Summary Report: Causal Impact of Promotion Types on Order Quantity\n",
        "\n",
        "###  Research Question\n",
        "> What is the **causal effect** of different promotion types — *direct discounts, coupon discounts, quantity discounts, and bundle discounts* — on the **number of units purchased** per order, conditional on a purchase?\n",
        "\n",
        "---\n",
        "\n",
        "###  Data & Methodology\n",
        "\n",
        "- **Dataset**: JD.com e-commerce transactions (March 2018), ~550,000 purchase records across ~450,000 users.\n",
        "- **Outcome variable**: `quantity` (number of units purchased per order).\n",
        "- **Promotion types**:\n",
        "  - `direct_discount_per_unit`\n",
        "  - `coupon_discount_per_unit`\n",
        "  - `quantity_discount_per_unit`\n",
        "  - `bundle_discount_per_unit`\n",
        "- **Model**: PanelOLS (Fixed Effects)\n",
        "  - **User-level fixed effects** control for unobserved user characteristics such as loyalty, preference, or income level.\n",
        "  - Each user serves as their own control group across different promotional exposures.\n",
        "\n",
        "---\n",
        "\n",
        "###  Key Results\n",
        "\n",
        "| Promotion Type        | Coefficient | P-Value | Interpretation                                 |\n",
        "|-----------------------|-------------|---------|------------------------------------------------|\n",
        "| Direct Discount       | -0.0010     | 0.0000  | Slightly reduces the number of items per order |\n",
        "| Coupon Discount       | -0.0026     | 0.0000  | Reduces order quantity more than direct        |\n",
        "| Quantity Discount     | +0.0019     | 0.0005  | Increases number of units purchased            |\n",
        "| Bundle Discount       | -0.0009     | 0.1740  | No statistically significant effect            |\n",
        "\n",
        "- **R-squared (within)**: 0.0008 — modest but expected due to low variation per user\n",
        "- **F-test (robust)**: p < 0.001 — model is statistically significant\n",
        "\n",
        "---\n",
        "\n",
        "### 🔍 Interpretation\n",
        "\n",
        "- ✅ **Quantity Discounts** are the most effective tool for increasing bulk purchases.\n",
        "- ⚠️ **Direct and Coupon Discounts** reduce the quantity ordered — they may drive conversions but not larger baskets.\n",
        "- ❌ **Bundle Discounts** show no clear effect — potentially underutilized or unclear to users.\n",
        "\n",
        "---\n",
        "\n",
        "###  Business Implications\n",
        "\n",
        "-  **To increase order volume**, JD.com should focus on **quantity-based promotions** (e.g., “Buy 3, get 1 free”).\n",
        "-  **Direct and coupon discounts** are helpful for encouraging purchases but **do not encourage multi-unit orders**.\n",
        "-  **Bundle offers** may need to be redesigned or made more attractive to drive impact.\n",
        "\n",
        "---\n",
        "\n",
        "###  Next Steps\n",
        "\n",
        "To further strengthen causal interpretation:\n",
        "\n",
        "- Add **SKU fixed effects** to control for product-specific demand.\n",
        "- Apply **propensity score matching** or **instrumental variables** to correct for selection bias.\n",
        "- Explore **time fixed effects** and **channel-based heterogeneity** (e.g., app vs. WeChat).\n",
        "\n",
        "---\n"
      ],
      "metadata": {
        "id": "s6V4KgPAvNP2"
      }
    }
  ],
  "metadata": {
    "kernelspec": {
      "display_name": "Python 3",
      "name": "python3"
    },
    "language_info": {
      "codemirror_mode": {
        "name": "ipython",
        "version": 3
      },
      "file_extension": ".py",
      "mimetype": "text/x-python",
      "name": "python",
      "nbconvert_exporter": "python",
      "pygments_lexer": "ipython3",
      "version": "3.12.4"
    },
    "colab": {
      "provenance": [],
      "machine_shape": "hm",
      "include_colab_link": true
    }
  },
  "nbformat": 4,
  "nbformat_minor": 0
}